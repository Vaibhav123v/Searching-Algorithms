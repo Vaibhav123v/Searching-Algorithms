{
 "cells": [
  {
   "cell_type": "markdown",
   "metadata": {},
   "source": [
    "# Searching "
   ]
  },
  {
   "cell_type": "markdown",
   "metadata": {},
   "source": [
    "## (1) Linear Search"
   ]
  },
  {
   "cell_type": "code",
   "execution_count": 1,
   "metadata": {},
   "outputs": [],
   "source": [
    "# In linear search we have to traverse each and every element one by one..\n",
    "# We have to compare each element with the given key\n",
    "# Given an array of n elements you have to search x in that array and return it's position\n"
   ]
  },
  {
   "cell_type": "code",
   "execution_count": 2,
   "metadata": {},
   "outputs": [],
   "source": [
    "def linear_Search(arr,n,x):\n",
    "    for i in range(n):\n",
    "        if arr[i]==x:\n",
    "            return i\n",
    "    return -1"
   ]
  },
  {
   "cell_type": "code",
   "execution_count": 3,
   "metadata": {},
   "outputs": [
    {
     "name": "stdout",
     "output_type": "stream",
     "text": [
      "Element 12 found at  index 3 or position 4\n"
     ]
    }
   ],
   "source": [
    "array = [10,20,30,12,23,45]\n",
    "x = 12\n",
    "print(f\"Element {x} found at  index {linear_Search(array,len(array),x)} or position {linear_Search(array,len(array),x)+1}\")"
   ]
  },
  {
   "cell_type": "code",
   "execution_count": 4,
   "metadata": {},
   "outputs": [],
   "source": [
    "#time complexity of linear search is O(n)\n",
    "# another approach"
   ]
  },
  {
   "cell_type": "code",
   "execution_count": 5,
   "metadata": {},
   "outputs": [],
   "source": [
    "def search(arr,x):\n",
    "    left = 0\n",
    "    length = len(arr)\n",
    "    position = -1\n",
    "    right = length-1\n",
    "    for left in range(0,right,1):\n",
    "        if (arr[left]==x):\n",
    "            position = left\n",
    "            print(f\"Element found in Array at {position +1} Position with  {left + 1}  Attempt\")\n",
    "            break\n",
    "        if (arr[right]==x):\n",
    "            position = right\n",
    "            print(\"Element found in Array at \", position + 1,\n",
    "                  \" Position with \", length - right, \" Attempt\")\n",
    "            break\n",
    "        left+=1\n",
    "        right-=1\n",
    "        if position==-1:\n",
    "            pass\n",
    "                  \n",
    "        \n",
    "    "
   ]
  },
  {
   "cell_type": "code",
   "execution_count": 6,
   "metadata": {},
   "outputs": [
    {
     "name": "stdout",
     "output_type": "stream",
     "text": [
      "Element found in Array at  5  Position with  1  Attempt\n"
     ]
    }
   ],
   "source": [
    "arr = [1,2,3,4,5]\n",
    "x = 5\n",
    "search(arr,x)"
   ]
  },
  {
   "cell_type": "markdown",
   "metadata": {},
   "source": [
    "## (2) Binary Search"
   ]
  },
  {
   "cell_type": "code",
   "execution_count": 7,
   "metadata": {},
   "outputs": [],
   "source": [
    "# Binary search is  another way of searching which takes O(logn) comparatively less than that of linear search\n",
    "# Binary search is only applicable when you have sorted array\n",
    "# It is based on divide and conquer approach..We generally divide the array into two equal halves and then search accordingly. "
   ]
  },
  {
   "cell_type": "markdown",
   "metadata": {},
   "source": [
    "### Search a sorted array by repeatedly dividing the search interval in half. Begin with an interval covering the whole array. If the value of the search key is less than the item in the middle of the interval, narrow the interval to the lower half. Otherwise narrow it to the upper half. Repeatedly check until the value is found or the interval is empty."
   ]
  },
  {
   "cell_type": "code",
   "execution_count": 8,
   "metadata": {},
   "outputs": [],
   "source": [
    "def B_search(array,left,right,value):\n",
    "    if right>=left:# right is starting index and left is ending index\n",
    "        middle = (right+left)//2\n",
    "        if(array[middle]==value):\n",
    "            return middle\n",
    "        elif array[middle]>value:\n",
    "            return B_search(array,left,middle-1,value)\n",
    "        else:\n",
    "            return B_search(array,middle+1,right,value)\n",
    "    else:\n",
    "        return -1\n",
    "    \n",
    "            \n",
    "            \n",
    "        "
   ]
  },
  {
   "cell_type": "code",
   "execution_count": 9,
   "metadata": {
    "scrolled": true
   },
   "outputs": [
    {
     "name": "stdout",
     "output_type": "stream",
     "text": [
      "Element =  22\n",
      "Element 22 found at index 1 \n"
     ]
    }
   ],
   "source": [
    "import random\n",
    "arr =  [10,22,32,34,43,62,71,81,92,110]\n",
    "x = random.choice(arr)\n",
    "print(\"Element = \",x)\n",
    "result = B_search(arr,0,len(arr)-1,x)\n",
    "if(result>=0):\n",
    "    print(f\"Element {x} found at index {result} \")\n",
    "else:\n",
    "    print(\"-1\")"
   ]
  },
  {
   "cell_type": "markdown",
   "metadata": {},
   "source": [
    "## (3)Exponential Search"
   ]
  },
  {
   "cell_type": "code",
   "execution_count": 10,
   "metadata": {},
   "outputs": [],
   "source": [
    "# Exponential search uses binary search for searching the element \n",
    "# It also takes O(logn) time to search.\n",
    "\n"
   ]
  },
  {
   "cell_type": "markdown",
   "metadata": {},
   "source": [
    "## In Exponential Search we generally find a range in which the search_element lies and further we perform binary search in that range."
   ]
  },
  {
   "cell_type": "code",
   "execution_count": 12,
   "metadata": {},
   "outputs": [
    {
     "name": "stdout",
     "output_type": "stream",
     "text": [
      "10 20 30 40 56 78 90 100\n",
      "40\n",
      "Element found at  3\n"
     ]
    }
   ],
   "source": [
    "list1=list(map(int, input().split(\" \"))) # take input in the form of list...\n",
    "val=int(input()) # value after getting complete list\n",
    "if list1[0] == val: # if element is at index 0 simply print(\"0\")\n",
    "    print(\"0\")\n",
    "i = 1 # or just use loop counter for further approach\n",
    "#Finding range for binarySearch\n",
    "while(i<len(list1) and list1[i]<=val): # condition for finding the range \n",
    "        i = i * 2\n",
    "min1=min(i,len(list1))\n",
    "def binarySearch(data_list,low,high,value): # same above approach of binary search\n",
    "    if(high>= low):\n",
    "        mid=int(low + ( high-low )//2)\n",
    "        if data_list[mid] == value:\n",
    "            return mid\n",
    "        if data_list[mid] > value:\n",
    "            return binarySearch(data_list,low,mid - 1,value)\n",
    "        else:\n",
    "            return binarySearch(data_list,mid + 1,high,value)\n",
    "    if(high<low):\n",
    "        return -1\n",
    "    # Applying binary search for specified range\n",
    "index=binarySearch(list1,i/2,min(i,len(list1)),val)\n",
    "if(index==-1):\n",
    "    print(\"Element not found\")\n",
    "else:\n",
    "    print(\"Element found at \",index)"
   ]
  },
  {
   "cell_type": "code",
   "execution_count": null,
   "metadata": {},
   "outputs": [],
   "source": []
  },
  {
   "cell_type": "code",
   "execution_count": null,
   "metadata": {},
   "outputs": [],
   "source": []
  },
  {
   "cell_type": "code",
   "execution_count": null,
   "metadata": {},
   "outputs": [],
   "source": []
  },
  {
   "cell_type": "code",
   "execution_count": null,
   "metadata": {},
   "outputs": [],
   "source": []
  }
 ],
 "metadata": {
  "kernelspec": {
   "display_name": "Python 3",
   "language": "python",
   "name": "python3"
  },
  "language_info": {
   "codemirror_mode": {
    "name": "ipython",
    "version": 3
   },
   "file_extension": ".py",
   "mimetype": "text/x-python",
   "name": "python",
   "nbconvert_exporter": "python",
   "pygments_lexer": "ipython3",
   "version": "3.8.3"
  }
 },
 "nbformat": 4,
 "nbformat_minor": 4
}
